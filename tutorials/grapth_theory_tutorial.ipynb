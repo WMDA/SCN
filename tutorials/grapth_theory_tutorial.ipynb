{
 "cells": [
  {
   "cell_type": "markdown",
   "metadata": {},
   "source": [
    "# Graph Theroy in Python\n",
    "\n",
    "This is a tutorial (taken from https://www.datacamp.com/community/tutorials/networkx-python-graph-tutorial) is on graph theory using python and networkx package.\n",
    "\n",
    "## The problem\n",
    "\n",
    "To find the shortest path between houses (nodes) that covers all the roads (edges) for a postal worker to travel. Roads can be traversed more than once however it must be done in the shortest distance (while covering all the roads).\n",
    "\n",
    "## Graphs an Introduction.\n",
    "\n",
    "Graphs (denoted by G):\n",
    "\n",
    "- Structures that map relations between objects.\n",
    "- Objects are commonly called nodes, vertecies or points\n",
    "- Connections between nodes are called, edges, arcs or links.\n",
    "- Graphs can be un-directional or bi-directional (A <--> B) or directed graphs (A --> B)\n",
    "- Can be weighted or unweighted (weights assign to edges or not)\n",
    "\n",
    "Size and order:\n",
    "\n",
    "- The size of G is the number of nodes\n",
    "- The Order of G is the number if edges.\n",
    "- Maximum order is n(n-1)/2 and this is a complete graph\n",
    "\n",
    "Weights\n",
    "\n",
    "- A numerical value assigned to as a label to an edge of a graph. \n",
    "\n",
    "Geodesics\n",
    "- The shortest distance between two nodes.\n",
    "\n",
    "Classical Centralities:\n",
    "\n",
    "- Degree centrality: The number of links held by a node (how well connected it is)\n",
    "- Closeness centrality: How close a node is to all other nodes in the network\n",
    "- Betweeness centrality: The number of times a node lies on the shortest path between other nodes.  \n",
    "- Eigenvector centrality: A measure of influence of a node in a network (the sum of its connections to other nodes weighted by centrality)\n",
    "\n",
    "Other Centralities:\n",
    "- Strength Centrality: The sum of the weights of a node   \n",
    "- Expected influence centrality: Similar to strength centrality but only includes positive weights.\n",
    "- Bridge strength centrality: A node's total connectivity with other nodes in a subgraph (or nodes that belong to another category, i.e if using metal health then nodes of another disorder)\n",
    "- Bridge betweenness centrality: The number of times a node lies on the shortest path between any two nodes from two distict subgraphs (or nodes that belong to another category, i.e if using metal health then nodes of another disorder)\n",
    "- Bridge Closeness centrality: The average distance from a node to all nodes outside of the subgraph (or nodes that belong to another category, i.e if using metal health then nodes of another disorder)\n",
    "\n",
    "Clustering:\n",
    "- Clustering co-effient is a measure of the degree to which nodes in a graph cluster together\n",
    "\n",
    "Small World network\n",
    "- A graph in which most nodes are not neighbors of one another. \n",
    "- Most nodes can be reached from every other node by a small number of hops or steps. \n",
    "- The shortest-path distance between nodes increases sufficiently slowly as a function of the number of nodes in the network.  \n",
    "\n",
    "\n",
    "### Further reading \n",
    "\n",
    "http://www.stats.ox.ac.uk/~snijders/D1pm_Graph_theory_basics.pdf - Stats from oxford uni\n",
    "\n",
    "https://findatwiki.com/Weights_(graph_theory) - appendix of terms\n",
    "\n",
    "https://cogentoa.tandfonline.com/doi/full/10.1080/00273171.2019.1614898 - Bridge Centrality: A Network Approach to Understanding Comorbidity\n",
    "\n",
    "https://psych-networks.com/expected-influence-new-centrality-metric-robinaugh-et-al-2016/ - Expected influence: a new centrality metric by Robinaugh et al. 2016\n",
    "\n"
   ]
  },
  {
   "cell_type": "code",
   "execution_count": 1,
   "metadata": {},
   "outputs": [],
   "source": []
  },
  {
   "cell_type": "markdown",
   "metadata": {},
   "source": []
  }
 ],
 "metadata": {
  "interpreter": {
   "hash": "d6aaeafbb34bd8ccb4b94759bad6d8a43f22b1f97d06ebd89ca25d302d210f79"
  },
  "kernelspec": {
   "display_name": "Python 3.9.7 64-bit ('scn': conda)",
   "language": "python",
   "name": "python3"
  },
  "language_info": {
   "codemirror_mode": {
    "name": "ipython",
    "version": 3
   },
   "file_extension": ".py",
   "mimetype": "text/x-python",
   "name": "python",
   "nbconvert_exporter": "python",
   "pygments_lexer": "ipython3",
   "version": "3.9.7"
  },
  "orig_nbformat": 4
 },
 "nbformat": 4,
 "nbformat_minor": 2
}
