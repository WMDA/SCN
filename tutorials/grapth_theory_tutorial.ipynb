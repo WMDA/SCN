{
 "cells": [
  {
   "cell_type": "markdown",
   "metadata": {},
   "source": [
    "# Graph Theroy in Python\n",
    "\n",
    "This is a tutorial (taken from https://www.datacamp.com/community/tutorials/networkx-python-graph-tutorial) is on graph theory using python and networkx package.\n",
    "\n",
    "## The problem\n",
    "\n",
    "To find the shortest path between houses (nodes) that covers all the roads (edges) for a postal worker to travel. Roads can be traversed more than once however it must be done in the shortest distance (while covering all the roads).\n",
    "\n",
    "## Graphs an Introduction.\n",
    "\n",
    "Graphs (denoted by G):\n",
    "\n",
    "- Structures that map relations between objects.\n",
    "- Objects are commonly called nodes, vertecies or points\n",
    "- Connections between nodes are called, edges, arcs or links.\n",
    "- Graphs can be un-directional or bi-directional (A <--> B) or directed graphs (A --> B)\n",
    "- Can be weighted or unweighted (weights assign to edges or not)\n",
    "\n",
    "Size and order:\n",
    "\n",
    "- The size of G is the number of nodes\n",
    "- The Order of G is the number if edges.\n",
    "- Maximum order is n(n-1)/2 and this is a complete graph\n",
    "\n",
    "Weights\n",
    "\n",
    "- A numerical value assigned to as a label to an edge of a graph. \n",
    "\n",
    "Degree\n",
    "\n",
    "- The number of nodes/verticies connected to a node.\n",
    "\n",
    "Geodesics (shortest path)\n",
    "- The shortest distance between two nodes.\n",
    "\n",
    "Classical Centralities:\n",
    "\n",
    "- Degree centrality: The number of links held by a node (how well connected it is)\n",
    "- Closeness centrality: How close a node is to all other nodes in the network\n",
    "- Betweeness centrality: The number of times a node lies on the shortest path between other nodes.  \n",
    "- Eigenvector centrality: A measure of influence of a node in a network (the sum of its connections to other nodes weighted by centrality)\n",
    "\n",
    "Other Centralities:\n",
    "- Strength Centrality: The sum of the weights of a node   \n",
    "- Expected influence centrality: Similar to strength centrality but only includes positive weights.\n",
    "- Bridge strength centrality: A node's total connectivity with other nodes in a subgraph (or nodes that belong to another category, i.e if using metal health then nodes of another disorder)\n",
    "- Bridge betweenness centrality: The number of times a node lies on the shortest path between any two nodes from two distict subgraphs (or nodes that belong to another category, i.e if using metal health then nodes of another disorder)\n",
    "- Bridge Closeness centrality: The average distance from a node to all nodes outside of the subgraph (or nodes that belong to another category, i.e if using metal health then nodes of another disorder)\n",
    "\n",
    "Clustering:\n",
    "- Clustering co-effient is a measure of the degree to which nodes in a graph cluster together\n",
    "\n",
    "Small World network\n",
    "- A graph in which most nodes are not neighbors of one another. \n",
    "- Most nodes can be reached from every other node by a small number of hops or steps. \n",
    "- The shortest-path distance between nodes increases sufficiently slowly as a function of the number of nodes in the network.  \n",
    "\n",
    "\n",
    "### Further reading \n",
    "\n",
    "http://www.stats.ox.ac.uk/~snijders/D1pm_Graph_theory_basics.pdf - Stats from oxford uni\n",
    "\n",
    "https://findatwiki.com/Weights_(graph_theory) - appendix of terms\n",
    "\n",
    "https://cogentoa.tandfonline.com/doi/full/10.1080/00273171.2019.1614898 - Bridge Centrality: A Network Approach to Understanding Comorbidity\n",
    "\n",
    "https://psych-networks.com/expected-influence-new-centrality-metric-robinaugh-et-al-2016/ - Expected influence: a new centrality metric by Robinaugh et al. 2016\n",
    "\n",
    "## The Code\n",
    "\n",
    "1. Import the packages\n",
    "2. Get the data. A list of nodes isn't always needed as networkx can work out nodes from the edges (in this case a node list is provided)\n",
    "3. Create an empty graph and add edges/nodes.\n",
    "4. Visulaise the graph\n",
    "5. Implement the CPP alogrithm to find the shortest path between nodes utilizing all the paths. \n"
   ]
  },
  {
   "cell_type": "code",
   "execution_count": 37,
   "metadata": {},
   "outputs": [],
   "source": [
    "import networkx as nx\n",
    "import pandas as pd\n",
    "import matplotlib.pyplot as plt\n",
    "import seaborn as sns\n",
    "\n",
    "sns.set()"
   ]
  },
  {
   "cell_type": "code",
   "execution_count": 3,
   "metadata": {},
   "outputs": [
    {
     "data": {
      "text/html": [
       "<div>\n",
       "<style scoped>\n",
       "    .dataframe tbody tr th:only-of-type {\n",
       "        vertical-align: middle;\n",
       "    }\n",
       "\n",
       "    .dataframe tbody tr th {\n",
       "        vertical-align: top;\n",
       "    }\n",
       "\n",
       "    .dataframe thead th {\n",
       "        text-align: right;\n",
       "    }\n",
       "</style>\n",
       "<table border=\"1\" class=\"dataframe\">\n",
       "  <thead>\n",
       "    <tr style=\"text-align: right;\">\n",
       "      <th></th>\n",
       "      <th>node1</th>\n",
       "      <th>node2</th>\n",
       "      <th>trail</th>\n",
       "      <th>distance</th>\n",
       "      <th>color</th>\n",
       "      <th>estimate</th>\n",
       "    </tr>\n",
       "  </thead>\n",
       "  <tbody>\n",
       "    <tr>\n",
       "      <th>0</th>\n",
       "      <td>rs_end_north</td>\n",
       "      <td>v_rs</td>\n",
       "      <td>rs</td>\n",
       "      <td>0.30</td>\n",
       "      <td>red</td>\n",
       "      <td>0</td>\n",
       "    </tr>\n",
       "    <tr>\n",
       "      <th>1</th>\n",
       "      <td>v_rs</td>\n",
       "      <td>b_rs</td>\n",
       "      <td>rs</td>\n",
       "      <td>0.21</td>\n",
       "      <td>red</td>\n",
       "      <td>0</td>\n",
       "    </tr>\n",
       "    <tr>\n",
       "      <th>2</th>\n",
       "      <td>b_rs</td>\n",
       "      <td>g_rs</td>\n",
       "      <td>rs</td>\n",
       "      <td>0.11</td>\n",
       "      <td>red</td>\n",
       "      <td>0</td>\n",
       "    </tr>\n",
       "    <tr>\n",
       "      <th>3</th>\n",
       "      <td>g_rs</td>\n",
       "      <td>w_rs</td>\n",
       "      <td>rs</td>\n",
       "      <td>0.18</td>\n",
       "      <td>red</td>\n",
       "      <td>0</td>\n",
       "    </tr>\n",
       "    <tr>\n",
       "      <th>4</th>\n",
       "      <td>w_rs</td>\n",
       "      <td>o_rs</td>\n",
       "      <td>rs</td>\n",
       "      <td>0.21</td>\n",
       "      <td>red</td>\n",
       "      <td>0</td>\n",
       "    </tr>\n",
       "  </tbody>\n",
       "</table>\n",
       "</div>"
      ],
      "text/plain": [
       "          node1 node2 trail  distance color  estimate\n",
       "0  rs_end_north  v_rs    rs      0.30   red         0\n",
       "1          v_rs  b_rs    rs      0.21   red         0\n",
       "2          b_rs  g_rs    rs      0.11   red         0\n",
       "3          g_rs  w_rs    rs      0.18   red         0\n",
       "4          w_rs  o_rs    rs      0.21   red         0"
      ]
     },
     "execution_count": 3,
     "metadata": {},
     "output_type": "execute_result"
    }
   ],
   "source": [
    "edgelist = pd.read_csv('https://gist.githubusercontent.com/brooksandrew/e570c38bcc72a8d102422f2af836513b/raw/89c76b2563dbc0e88384719a35cba0dfc04cd522/edgelist_sleeping_giant.csv')\n",
    "edgelist.head()"
   ]
  },
  {
   "cell_type": "code",
   "execution_count": 4,
   "metadata": {},
   "outputs": [
    {
     "data": {
      "text/html": [
       "<div>\n",
       "<style scoped>\n",
       "    .dataframe tbody tr th:only-of-type {\n",
       "        vertical-align: middle;\n",
       "    }\n",
       "\n",
       "    .dataframe tbody tr th {\n",
       "        vertical-align: top;\n",
       "    }\n",
       "\n",
       "    .dataframe thead th {\n",
       "        text-align: right;\n",
       "    }\n",
       "</style>\n",
       "<table border=\"1\" class=\"dataframe\">\n",
       "  <thead>\n",
       "    <tr style=\"text-align: right;\">\n",
       "      <th></th>\n",
       "      <th>id</th>\n",
       "      <th>X</th>\n",
       "      <th>Y</th>\n",
       "    </tr>\n",
       "  </thead>\n",
       "  <tbody>\n",
       "    <tr>\n",
       "      <th>0</th>\n",
       "      <td>b_bv</td>\n",
       "      <td>1486</td>\n",
       "      <td>732</td>\n",
       "    </tr>\n",
       "    <tr>\n",
       "      <th>1</th>\n",
       "      <td>b_bw</td>\n",
       "      <td>716</td>\n",
       "      <td>1357</td>\n",
       "    </tr>\n",
       "    <tr>\n",
       "      <th>2</th>\n",
       "      <td>b_end_east</td>\n",
       "      <td>3164</td>\n",
       "      <td>1111</td>\n",
       "    </tr>\n",
       "    <tr>\n",
       "      <th>3</th>\n",
       "      <td>b_end_west</td>\n",
       "      <td>141</td>\n",
       "      <td>1938</td>\n",
       "    </tr>\n",
       "    <tr>\n",
       "      <th>4</th>\n",
       "      <td>b_g</td>\n",
       "      <td>1725</td>\n",
       "      <td>771</td>\n",
       "    </tr>\n",
       "  </tbody>\n",
       "</table>\n",
       "</div>"
      ],
      "text/plain": [
       "           id     X     Y\n",
       "0        b_bv  1486   732\n",
       "1        b_bw   716  1357\n",
       "2  b_end_east  3164  1111\n",
       "3  b_end_west   141  1938\n",
       "4         b_g  1725   771"
      ]
     },
     "execution_count": 4,
     "metadata": {},
     "output_type": "execute_result"
    }
   ],
   "source": [
    "nodelist = pd.read_csv('https://gist.githubusercontent.com/brooksandrew/f989e10af17fb4c85b11409fea47895b/raw/a3a8da0fa5b094f1ca9d82e1642b384889ae16e8/nodelist_sleeping_giant.csv')\n",
    "nodelist.head()"
   ]
  },
  {
   "cell_type": "markdown",
   "metadata": {},
   "source": [
    "create an empty graph then loop through the rows of the edgelist and node list adding each edge and its corresponding attributes to the graph."
   ]
  },
  {
   "cell_type": "code",
   "execution_count": 5,
   "metadata": {},
   "outputs": [],
   "source": [
    "graph = nx.Graph()"
   ]
  },
  {
   "cell_type": "code",
   "execution_count": 6,
   "metadata": {},
   "outputs": [],
   "source": [
    "for index, edges in edgelist.iterrows():\n",
    "    graph.add_edge(edges[0],edges[1], attr_dict=edges[2:].to_dict())"
   ]
  },
  {
   "cell_type": "markdown",
   "metadata": {},
   "source": [
    "~~~\n",
    "edges[0] = the first node \n",
    "\n",
    "edges[1] = the second node\n",
    "\n",
    "edges[2:].to_dict() = a dictionary with all the details about the edges.\n",
    "~~~\n",
    "We also do the same for the node list (however unlike the tutorial we need to use graph.nodes which is just a standard dictionary)"
   ]
  },
  {
   "cell_type": "code",
   "execution_count": 7,
   "metadata": {},
   "outputs": [],
   "source": [
    "for index, node in nodelist.iterrows():\n",
    "    graph.nodes[node['id']].update(node[1:].to_dict())"
   ]
  },
  {
   "cell_type": "markdown",
   "metadata": {},
   "source": [
    "Inspect the graph output \n",
    "\n",
    "~~~\n",
    "print(graph.edges(data=True))\n",
    "print(graph.nodes(data=True))\n",
    "~~~\n",
    "\n",
    "This prints out all the data while\n",
    "\n",
    "~~~\n",
    "graph[node in graph]\n",
    "~~~\n",
    "\n",
    "only prints out selected node."
   ]
  },
  {
   "cell_type": "code",
   "execution_count": 8,
   "metadata": {},
   "outputs": [
    {
     "name": "stdout",
     "output_type": "stream",
     "text": [
      "{'rs_end_north': {'attr_dict': {'trail': 'rs', 'distance': 0.3, 'color': 'red', 'estimate': 0}}, 'b_rs': {'attr_dict': {'trail': 'rs', 'distance': 0.21, 'color': 'red', 'estimate': 0}}, 'v_bv': {'attr_dict': {'trail': 'v', 'distance': 0.52, 'color': 'violet', 'estimate': 0}}, 'v_end_east': {'attr_dict': {'trail': 'v', 'distance': 0.54, 'color': 'violet', 'estimate': 0}}}\n"
     ]
    }
   ],
   "source": [
    "print(graph['v_rs'])"
   ]
  },
  {
   "cell_type": "code",
   "execution_count": 9,
   "metadata": {},
   "outputs": [
    {
     "data": {
      "text/plain": [
       "NodeDataView({'rs_end_north': {'X': 1772, 'Y': 172}, 'v_rs': {'X': 1793, 'Y': 484}, 'b_rs': {'X': 1747, 'Y': 700}, 'g_rs': {'X': 1676, 'Y': 775}, 'w_rs': {'X': 1646, 'Y': 947}, 'o_rs': {'X': 1724, 'Y': 1148}, 'y_rs': {'X': 1805, 'Y': 1246}, 'rs_end_south': {'X': 1865, 'Y': 1598}, 'rc_end_north': {'X': 867, 'Y': 618}, 'v_rc': {'X': 1288, 'Y': 934}, 'b_rc': {'X': 1311, 'Y': 979}, 'g_rc': {'X': 1451, 'Y': 1020}, 'o_rc': {'X': 1498, 'Y': 1153}, 'w_rc': {'X': 1491, 'Y': 1352}, 'y_rc': {'X': 1429, 'Y': 1491}, 'rc_end_south': {'X': 1450, 'Y': 1800}, 'rt_end_north': {'X': 681, 'Y': 850}, 'v_rt': {'X': 802, 'Y': 1115}, 'tt_rt': {'X': 833, 'Y': 1273}, 'b_rt': {'X': 835, 'Y': 1309}, 'g_rt': {'X': 908, 'Y': 1378}, 'o_rt': {'X': 927, 'Y': 1427}, 'w_rt': {'X': 926, 'Y': 1490}, 'y_rt': {'X': 977, 'Y': 1666}, 'rt_end_south': {'X': 944, 'Y': 1837}, 'rh_end_north': {'X': 205, 'Y': 1472}, 'v_rh': {'X': 415, 'Y': 1350}, 'b_rh': {'X': 525, 'Y': 1380}, 'rh_end_tt_1': {'X': 558, 'Y': 1430}, 'rh_end_tt_2': {'X': 550, 'Y': 1608}, 'o_rh': {'X': 585, 'Y': 1674}, 'rh_end_tt_3': {'X': 573, 'Y': 1707}, 'rh_end_tt_4': {'X': 695, 'Y': 1767}, 'y_rh': {'X': 717, 'Y': 1852}, 'rh_end_south': {'X': 721, 'Y': 1925}, 'rd_end_north': {'X': 185, 'Y': 1561}, 'v_rd': {'X': 258, 'Y': 1684}, 'b_rd': {'X': 268, 'Y': 1744}, 'rd_end_south': {'X': 273, 'Y': 1869}, 'v_end_west': {'X': 359, 'Y': 1976}, 'b_v': {'X': 285, 'Y': 1937}, 'v_bv': {'X': 1425, 'Y': 691}, 'v_end_east': {'X': 2131, 'Y': 921}, 'bstub_w': {'X': 372, 'Y': 1845}, 'b_end_west': {'X': 141, 'Y': 1938}, 'rd_end_south_dupe': {'X': 273, 'Y': 1869}, 'b_rd_dupe': {'X': 268, 'Y': 1744}, 'b_tt_1': {'X': 571, 'Y': 1418}, 'b_bw': {'X': 716, 'Y': 1357}, 'b_tt_2': {'X': 857, 'Y': 1287}, 'b_tt_3': {'X': 1006, 'Y': 1206}, 'b_bv': {'X': 1486, 'Y': 732}, 'b_g': {'X': 1725, 'Y': 771}, 'b_w': {'X': 1691, 'Y': 940}, 'b_gy2': {'X': 2000, 'Y': 983}, 'b_o': {'X': 2039, 'Y': 1012}, 'b_y': {'X': 2134, 'Y': 1078}, 'b_end_east': {'X': 3164, 'Y': 1111}, 'w_tt': {'X': 550, 'Y': 1522}, 'w_bw': {'X': 664, 'Y': 1492}, 'g_w': {'X': 700, 'Y': 1582}, 'o_w_1': {'X': 850, 'Y': 1490}, 'w_gy1': {'X': 1184, 'Y': 1445}, 'o_w_2': {'X': 1600, 'Y': 1176}, 'w_gy2': {'X': 2000, 'Y': 954}, 'park_east': {'X': 2131, 'Y': 921}, 'g_gy1': {'X': 1098, 'Y': 1183}, 'g_gy2': {'X': 1976, 'Y': 906}, 'o_y_tt_end_west': {'X': 459, 'Y': 1924}, 'o_tt': {'X': 665, 'Y': 1690}, 'o_gy1': {'X': 1130, 'Y': 1297}, 'o_gy2': {'X': 1994, 'Y': 1059}, 'y_gy1': {'X': 1258, 'Y': 1558}, 'y_gy2': {'X': 1939, 'Y': 1182}, 'nature_end_west': {'X': 600, 'Y': 1861}, 'b_tt_2_dupe': {'X': 857, 'Y': 1287}, 'b_tt_3_dupe': {'X': 1006, 'Y': 1206}})"
      ]
     },
     "execution_count": 9,
     "metadata": {},
     "output_type": "execute_result"
    }
   ],
   "source": [
    "graph.nodes(data=True)"
   ]
  },
  {
   "cell_type": "code",
   "execution_count": 10,
   "metadata": {},
   "outputs": [
    {
     "name": "stdout",
     "output_type": "stream",
     "text": [
      "Number of edges in graph 123\n",
      "Number of edges in graph 77\n"
     ]
    }
   ],
   "source": [
    "print(f'Number of edges in graph {graph.number_of_edges()}')\n",
    "print(f'Number of edges in graph {graph.number_of_nodes()}')"
   ]
  },
  {
   "cell_type": "markdown",
   "metadata": {},
   "source": [
    "### Visualise the graph\n",
    "\n",
    "1. Manipulate nodes to reflect actual geometery (if geometery doesn't matter then can leave it). In this example the X axis and the Y axis to given a co-ordinate\n",
    "2. The edges also have a colour attribute with them to make the graph colourful."
   ]
  },
  {
   "cell_type": "code",
   "execution_count": 12,
   "metadata": {},
   "outputs": [
    {
     "data": {
      "text/plain": [
       "{'rs_end_north': (1772, -172),\n",
       " 'v_rs': (1793, -484),\n",
       " 'b_rs': (1747, -700),\n",
       " 'g_rs': (1676, -775),\n",
       " 'w_rs': (1646, -947),\n",
       " 'o_rs': (1724, -1148),\n",
       " 'y_rs': (1805, -1246),\n",
       " 'rs_end_south': (1865, -1598),\n",
       " 'rc_end_north': (867, -618),\n",
       " 'v_rc': (1288, -934),\n",
       " 'b_rc': (1311, -979),\n",
       " 'g_rc': (1451, -1020),\n",
       " 'o_rc': (1498, -1153),\n",
       " 'w_rc': (1491, -1352),\n",
       " 'y_rc': (1429, -1491),\n",
       " 'rc_end_south': (1450, -1800),\n",
       " 'rt_end_north': (681, -850),\n",
       " 'v_rt': (802, -1115),\n",
       " 'tt_rt': (833, -1273),\n",
       " 'b_rt': (835, -1309),\n",
       " 'g_rt': (908, -1378),\n",
       " 'o_rt': (927, -1427),\n",
       " 'w_rt': (926, -1490),\n",
       " 'y_rt': (977, -1666),\n",
       " 'rt_end_south': (944, -1837),\n",
       " 'rh_end_north': (205, -1472),\n",
       " 'v_rh': (415, -1350),\n",
       " 'b_rh': (525, -1380),\n",
       " 'rh_end_tt_1': (558, -1430),\n",
       " 'rh_end_tt_2': (550, -1608),\n",
       " 'o_rh': (585, -1674),\n",
       " 'rh_end_tt_3': (573, -1707),\n",
       " 'rh_end_tt_4': (695, -1767),\n",
       " 'y_rh': (717, -1852),\n",
       " 'rh_end_south': (721, -1925),\n",
       " 'rd_end_north': (185, -1561),\n",
       " 'v_rd': (258, -1684),\n",
       " 'b_rd': (268, -1744),\n",
       " 'rd_end_south': (273, -1869),\n",
       " 'v_end_west': (359, -1976),\n",
       " 'b_v': (285, -1937),\n",
       " 'v_bv': (1425, -691),\n",
       " 'v_end_east': (2131, -921),\n",
       " 'bstub_w': (372, -1845),\n",
       " 'b_end_west': (141, -1938),\n",
       " 'rd_end_south_dupe': (273, -1869),\n",
       " 'b_rd_dupe': (268, -1744),\n",
       " 'b_tt_1': (571, -1418),\n",
       " 'b_bw': (716, -1357),\n",
       " 'b_tt_2': (857, -1287),\n",
       " 'b_tt_3': (1006, -1206),\n",
       " 'b_bv': (1486, -732),\n",
       " 'b_g': (1725, -771),\n",
       " 'b_w': (1691, -940),\n",
       " 'b_gy2': (2000, -983),\n",
       " 'b_o': (2039, -1012),\n",
       " 'b_y': (2134, -1078),\n",
       " 'b_end_east': (3164, -1111),\n",
       " 'w_tt': (550, -1522),\n",
       " 'w_bw': (664, -1492),\n",
       " 'g_w': (700, -1582),\n",
       " 'o_w_1': (850, -1490),\n",
       " 'w_gy1': (1184, -1445),\n",
       " 'o_w_2': (1600, -1176),\n",
       " 'w_gy2': (2000, -954),\n",
       " 'park_east': (2131, -921),\n",
       " 'g_gy1': (1098, -1183),\n",
       " 'g_gy2': (1976, -906),\n",
       " 'o_y_tt_end_west': (459, -1924),\n",
       " 'o_tt': (665, -1690),\n",
       " 'o_gy1': (1130, -1297),\n",
       " 'o_gy2': (1994, -1059),\n",
       " 'y_gy1': (1258, -1558),\n",
       " 'y_gy2': (1939, -1182),\n",
       " 'nature_end_west': (600, -1861),\n",
       " 'b_tt_2_dupe': (857, -1287),\n",
       " 'b_tt_3_dupe': (1006, -1206)}"
      ]
     },
     "execution_count": 12,
     "metadata": {},
     "output_type": "execute_result"
    }
   ],
   "source": [
    "node_positions = {node[0]: (node[1]['X'], -node[1]['Y']) for node in graph.nodes(data=True)}\n",
    "node_positions"
   ]
  },
  {
   "cell_type": "code",
   "execution_count": 28,
   "metadata": {},
   "outputs": [],
   "source": [
    "edge_colours = [edge[2]['attr_dict']['color'] for edge in graph.edges(data=True)]"
   ]
  },
  {
   "cell_type": "code",
   "execution_count": 50,
   "metadata": {},
   "outputs": [
    {
     "data": {
      "text/plain": [
       "NodeView(('rs_end_north', 'v_rs', 'b_rs', 'g_rs', 'w_rs', 'o_rs', 'y_rs', 'rs_end_south', 'rc_end_north', 'v_rc', 'b_rc', 'g_rc', 'o_rc', 'w_rc', 'y_rc', 'rc_end_south', 'rt_end_north', 'v_rt', 'tt_rt', 'b_rt', 'g_rt', 'o_rt', 'w_rt', 'y_rt', 'rt_end_south', 'rh_end_north', 'v_rh', 'b_rh', 'rh_end_tt_1', 'rh_end_tt_2', 'o_rh', 'rh_end_tt_3', 'rh_end_tt_4', 'y_rh', 'rh_end_south', 'rd_end_north', 'v_rd', 'b_rd', 'rd_end_south', 'v_end_west', 'b_v', 'v_bv', 'v_end_east', 'bstub_w', 'b_end_west', 'rd_end_south_dupe', 'b_rd_dupe', 'b_tt_1', 'b_bw', 'b_tt_2', 'b_tt_3', 'b_bv', 'b_g', 'b_w', 'b_gy2', 'b_o', 'b_y', 'b_end_east', 'w_tt', 'w_bw', 'g_w', 'o_w_1', 'w_gy1', 'o_w_2', 'w_gy2', 'park_east', 'g_gy1', 'g_gy2', 'o_y_tt_end_west', 'o_tt', 'o_gy1', 'o_gy2', 'y_gy1', 'y_gy2', 'nature_end_west', 'b_tt_2_dupe', 'b_tt_3_dupe'))"
      ]
     },
     "execution_count": 50,
     "metadata": {},
     "output_type": "execute_result"
    }
   ],
   "source": [
    "labels = dict(zip([index for index in nodelist.index],[id for id in nodelist['id']]))\n",
    "graph.nodes(data=False)"
   ]
  },
  {
   "cell_type": "code",
   "execution_count": 52,
   "metadata": {},
   "outputs": [
    {
     "data": {
      "image/png": "[encoded data removed]",
      "text/plain": [
       "<Figure size 576x432 with 1 Axes>"
      ]
     },
     "metadata": {},
     "output_type": "display_data"
    }
   ],
   "source": [
    "plt.figure(figsize=(8,6))\n",
    "nx.draw(graph, pos=node_positions, node_size=20, edge_color=edge_colours, node_color='black')"
   ]
  }
 ],
 "metadata": {
  "interpreter": {
   "hash": "d6aaeafbb34bd8ccb4b94759bad6d8a43f22b1f97d06ebd89ca25d302d210f79"
  },
  "kernelspec": {
   "display_name": "Python 3.9.7 64-bit ('scn': conda)",
   "language": "python",
   "name": "python3"
  },
  "language_info": {
   "codemirror_mode": {
    "name": "ipython",
    "version": 3
   },
   "file_extension": ".py",
   "mimetype": "text/x-python",
   "name": "python",
   "nbconvert_exporter": "python",
   "pygments_lexer": "ipython3",
   "version": "3.9.7"
  },
  "orig_nbformat": 4
 },
 "nbformat": 4,
 "nbformat_minor": 2
}
