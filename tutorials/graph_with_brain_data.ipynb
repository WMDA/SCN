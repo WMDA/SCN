{
 "cells": [
  {
   "cell_type": "code",
   "execution_count": null,
   "metadata": {},
   "outputs": [],
   "source": [
    "import networkx as nx\n",
    "import pandas as pd\n",
    "import matplotlib.pyplot as plt\n",
    "import pingouin as pin"
   ]
  },
  {
   "cell_type": "markdown",
   "metadata": {},
   "source": [
    "This code creates the enviornmental variable for where the data is stored. Create a .env file in the directory with the file path to data."
   ]
  },
  {
   "cell_type": "code",
   "execution_count": null,
   "metadata": {},
   "outputs": [],
   "source": [
    "from decouple import config\n",
    "\n",
    "data = config('data')"
   ]
  },
  {
   "cell_type": "code",
   "execution_count": null,
   "metadata": {},
   "outputs": [],
   "source": [
    "lh_area = pd.read_csv(f'{data}/lh_area.dat',sep='\\t').drop(['lh_WhiteSurfArea_area',\n",
    "       'BrainSegVolNotVent', 'eTIV'],axis=1).rename(columns={'lh.aparc.area':'G-Number'})\n",
    "\n",
    "rh_area =  pd.read_csv(f'{data}/rh_area.dat',sep='\\t').drop(['rh_WhiteSurfArea_area',\n",
    "       'BrainSegVolNotVent', 'eTIV','rh.aparc.area'],axis=1)\n",
    "\n",
    "group = pd.read_csv(f'{data}/cortical_measures.csv').iloc[0:,2]\n",
    "\n",
    "area = pd.concat([lh_area, rh_area, group],axis=1)\n",
    "\n",
    "len(area.columns)"
   ]
  },
  {
   "cell_type": "code",
   "execution_count": null,
   "metadata": {},
   "outputs": [],
   "source": [
    "group = area.groupby('age_adjusted_group')\n",
    "aan = group.get_group('AAN')\n",
    "hc = group.get_group('HC')\n",
    "wr = group.get_group('WR')"
   ]
  },
  {
   "cell_type": "code",
   "execution_count": null,
   "metadata": {},
   "outputs": [],
   "source": [
    "corr_aan = pin.pairwise_corr(aan, method='skipped')"
   ]
  },
  {
   "cell_type": "code",
   "execution_count": null,
   "metadata": {},
   "outputs": [],
   "source": [
    "corr_aan"
   ]
  },
  {
   "cell_type": "code",
   "execution_count": null,
   "metadata": {},
   "outputs": [],
   "source": [
    "graph = nx.Graph()"
   ]
  },
  {
   "cell_type": "code",
   "execution_count": null,
   "metadata": {},
   "outputs": [],
   "source": [
    "for index, edge in corr_aan.iterrows():\n",
    "    graph.add_edge(edge[0],edge[1], attr_dict=edge[6])"
   ]
  },
  {
   "cell_type": "code",
   "execution_count": null,
   "metadata": {},
   "outputs": [],
   "source": [
    "plt.figure(figsize=(8,6))\n",
    "nx.draw(graph, pos=nx.spring_layout(graph), node_size=20,  node_color='black')"
   ]
  }
 ],
 "metadata": {
  "interpreter": {
   "hash": "d6aaeafbb34bd8ccb4b94759bad6d8a43f22b1f97d06ebd89ca25d302d210f79"
  },
  "kernelspec": {
   "display_name": "Python 3.9.7 64-bit ('scn': conda)",
   "language": "python",
   "name": "python3"
  },
  "language_info": {
   "codemirror_mode": {
    "name": "ipython",
    "version": 3
   },
   "file_extension": ".py",
   "mimetype": "text/x-python",
   "name": "python",
   "nbconvert_exporter": "python",
   "pygments_lexer": "ipython3",
   "version": "3.9.7"
  },
  "orig_nbformat": 4
 },
 "nbformat": 4,
 "nbformat_minor": 2
}
