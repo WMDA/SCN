{
 "cells": [
  {
   "cell_type": "markdown",
   "metadata": {},
   "source": [
    "# Notebook to calculate group differences based on paper drakesmith et al\n",
    "\n",
    "This is the  multi-threshold permutation correction approach and consists:\n",
    "\n",
    "1) Apply thresholds to networks and compute network metrics for all networks across all thresholds\n",
    "2) Compute test statistics for each network\n",
    "3) Permute across groups to get the null distrubition\n",
    "4) Take the maximum test statistic across all thresholds for each permutation resulting in one summarised null statistic for each permutation. \n",
    "5) Identify the critical value for the test-statistic from the top αth percentile of the null test statistics, where α is the desired confidence level (e.g., 5%).\n",
    "6) Identify clusters where the true test statistic is higher than the critical value and compute the AUC for these clusters.\n",
    " "
   ]
  },
  {
   "cell_type": "code",
   "execution_count": 31,
   "metadata": {},
   "outputs": [],
   "source": [
    "import os\n",
    "import pandas as pd\n",
    "import numpy as np\n",
    "import re\n",
    "import matplotlib.pyplot as plt\n",
    "import functions.plotting_functions as Pfun\n",
    "import functions.statistical_functions as Sfun\n",
    "import seaborn as sns\n",
    "sns.set_style('dark')\n",
    "from decouple import config\n",
    "\n",
    "data = config('data')"
   ]
  },
  {
   "cell_type": "markdown",
   "metadata": {},
   "source": [
    "Import data."
   ]
  },
  {
   "cell_type": "code",
   "execution_count": 2,
   "metadata": {},
   "outputs": [],
   "source": [
    "lh_volume = pd.read_csv(f'{data}/lh_volume.dat',sep='\\t').drop(['BrainSegVolNotVent', 'eTIV'],axis=1).rename(columns={'lh.aparc.volume':'G-Number'})\n",
    "rh_volume =  pd.read_csv(f'{data}/rh_volume.dat',sep='\\t').drop(['BrainSegVolNotVent', 'eTIV','rh.aparc.volume'],axis=1)\n",
    "\n",
    "group = pd.read_csv(f'{data}/cortical_measures.csv').iloc[0:,2]\n",
    "\n",
    "volume = pd.concat([lh_volume, rh_volume, group],axis=1)\n",
    "\n",
    "names = list(volume.columns.drop(['G-Number','age_adjusted_group']))\n",
    "\n",
    "centroids = pd.read_csv(f'{data}/atlas.csv')\n",
    "centroids = centroids[['x.mni', 'y.mni', 'z.mni']].to_numpy()\n",
    "\n",
    "\n",
    "group = volume.groupby('age_adjusted_group')\n",
    "aan = group.get_group('AAN').reset_index(drop=True)\n",
    "hc = group.get_group('HC').reset_index(drop=True)\n",
    "wr = group.get_group('WR').reset_index(drop=True)"
   ]
  },
  {
   "cell_type": "markdown",
   "metadata": {},
   "source": [
    "## 1) Apply thresholds to networks and compute network metrics for all networks across all thresholds\n",
    "\n",
    "First the threshold range needs to be decided. To do this the methodology used is taken from Bassett et al (https://doi.org/10.1073/pnas.0606005103) where the upper limit must not exceed 2 * natural log(nodes). \n",
    "Starting point of 4 is used otherwise minimum spanning tree is too large and throws up error message.\n",
    "\n",
    "Threshold values are stored in a list."
   ]
  },
  {
   "cell_type": "code",
   "execution_count": 3,
   "metadata": {},
   "outputs": [],
   "source": [
    "threshold_value=[]\n",
    "for threshold in range(4 , 100):\n",
    "    aan_graphs = Sfun.create_graphs(aan.iloc[:,1:69], names, centroids, threshold=threshold)\n",
    "    aan_graphs['graph_threshold'].calculate_nodal_measures()\n",
    "    cal = aan_graphs['graph_threshold'].report_nodal_measures()\n",
    "    \n",
    "    if cal['degree'].mean() > 2 * np.log(len(aan_graphs['graph_threshold'].nodes())):\n",
    "        break\n",
    "    \n",
    "    threshold_value.append(threshold)"
   ]
  },
  {
   "cell_type": "markdown",
   "metadata": {},
   "source": [
    "Now create graphs at the pre-defined thresholds."
   ]
  },
  {
   "cell_type": "code",
   "execution_count": 4,
   "metadata": {},
   "outputs": [],
   "source": [
    "result = {\n",
    "    'aan_graphs':[],\n",
    "    'hc_graphs':[],\n",
    "    'wr_graphs':[]\n",
    "}"
   ]
  },
  {
   "cell_type": "code",
   "execution_count": 5,
   "metadata": {},
   "outputs": [],
   "source": [
    "for threshold in threshold_value:\n",
    "    aan_graphs = Sfun.create_graphs(aan.iloc[:,1:69], names, centroids, threshold=threshold)\n",
    "    aan_graphs['graph_threshold'].__name__ = f'aan_graph_threshold_value_{threshold}'\n",
    "    result['aan_graphs'].append(aan_graphs['graph_threshold'])\n",
    "\n",
    "    hc_graphs = Sfun.create_graphs(hc.iloc[:,1:69], names, centroids, threshold=threshold)\n",
    "    hc_graphs['graph_threshold'].__name__ = f'hc_graph_threshold_value_{threshold}'\n",
    "    result['hc_graphs'].append(hc_graphs['graph_threshold'])\n",
    "\n",
    "    wr_graphs = Sfun.create_graphs(wr.iloc[:,1:69], names, centroids, threshold=threshold)\n",
    "    wr_graphs['graph_threshold'].__name__ = f'wr_graph_threshold_value_{threshold}'\n",
    "    result['wr_graphs'].append(wr_graphs['graph_threshold'])"
   ]
  },
  {
   "cell_type": "markdown",
   "metadata": {},
   "source": [
    "Finally calculate global measures for each graph at the threshold ranges."
   ]
  },
  {
   "cell_type": "code",
   "execution_count": 6,
   "metadata": {},
   "outputs": [],
   "source": [
    "measures = {}"
   ]
  },
  {
   "cell_type": "code",
   "execution_count": 7,
   "metadata": {},
   "outputs": [],
   "source": [
    "for keys, values in result.items():\n",
    "    for graph_object in values:\n",
    "        global_measures = graph_object.calculate_global_measures()\n",
    "        measures[f'{graph_object.__name__}'] = []\n",
    "        measures[f'{graph_object.__name__}'].append(global_measures)"
   ]
  },
  {
   "cell_type": "markdown",
   "metadata": {},
   "source": [
    "## 2) Compute test statistics for each network\n",
    "\n",
    "Calculate the test statistic for each condition. This is going to be the difference between each global measure for two groups. "
   ]
  },
  {
   "cell_type": "code",
   "execution_count": 8,
   "metadata": {},
   "outputs": [],
   "source": [
    "test_statistics = {\n",
    "    'aan_hc':{},\n",
    "    'wr_hc':{},\n",
    "    'wr_aan':{}\n",
    "}"
   ]
  },
  {
   "cell_type": "code",
   "execution_count": 9,
   "metadata": {},
   "outputs": [
    {
     "name": "stdout",
     "output_type": "stream",
     "text": [
      "average_clustering_at_threshold_value_4 0.027004286563110075\n",
      "average_shortest_path_length_at_threshold_value_4 -0.08077260755048243\n",
      "assortativity_at_threshold_value_4 0.1897509311188565\n",
      "modularity_at_threshold_value_4 0.002777442337881908\n",
      "efficiency_at_threshold_value_4 -0.0043163011995325795\n",
      "average_clustering_at_threshold_value_5 0.039027394174453\n",
      "average_shortest_path_length_at_threshold_value_5 -0.08340649692712976\n",
      "assortativity_at_threshold_value_5 0.19514622589634578\n",
      "modularity_at_threshold_value_5 -0.006155740227762552\n",
      "efficiency_at_threshold_value_5 -0.0024108037606724864\n",
      "average_clustering_at_threshold_value_6 -0.0018285635932695499\n",
      "average_shortest_path_length_at_threshold_value_6 -0.08779631255487264\n",
      "assortativity_at_threshold_value_6 0.16780104901294546\n",
      "modularity_at_threshold_value_6 -0.016117001438542222\n",
      "efficiency_at_threshold_value_6 -0.002495005238637271\n",
      "average_clustering_at_threshold_value_7 0.016673165383555233\n",
      "average_shortest_path_length_at_threshold_value_7 -0.005706760316066539\n",
      "assortativity_at_threshold_value_7 0.14608447054409718\n",
      "modularity_at_threshold_value_7 -0.012143506981527552\n",
      "efficiency_at_threshold_value_7 -0.0028032108365731445\n",
      "average_clustering_at_threshold_value_8 0.05239217987237477\n",
      "average_shortest_path_length_at_threshold_value_8 0.21290605794556638\n",
      "assortativity_at_threshold_value_8 0.07921093478187943\n",
      "modularity_at_threshold_value_8 0.00042265426880799817\n",
      "efficiency_at_threshold_value_8 -0.013320129046641926\n",
      "average_clustering_at_threshold_value_9 0.09257748089745893\n",
      "average_shortest_path_length_at_threshold_value_9 0.01273046532045674\n",
      "assortativity_at_threshold_value_9 0.08657409970236939\n",
      "modularity_at_threshold_value_9 0.01778703152885186\n",
      "efficiency_at_threshold_value_9 -0.00324010201095537\n",
      "average_clustering_at_threshold_value_10 0.10971236784334115\n",
      "average_shortest_path_length_at_threshold_value_10 0.0460930640913082\n",
      "assortativity_at_threshold_value_10 0.08252429022785399\n",
      "modularity_at_threshold_value_10 0.014687211449676829\n",
      "efficiency_at_threshold_value_10 -0.004243488440153209\n",
      "average_clustering_at_threshold_value_11 0.0795892367350754\n",
      "average_shortest_path_length_at_threshold_value_11 -0.017120280948200062\n",
      "assortativity_at_threshold_value_11 0.09517866477884641\n",
      "modularity_at_threshold_value_11 0.00411104585641503\n",
      "efficiency_at_threshold_value_11 0.0007462686567153987\n",
      "average_clustering_at_threshold_value_12 0.037665955198734447\n",
      "average_shortest_path_length_at_threshold_value_12 -0.031167690956979577\n",
      "assortativity_at_threshold_value_12 0.03990206919401179\n",
      "modularity_at_threshold_value_12 -0.01738920420239104\n",
      "efficiency_at_threshold_value_12 0.0037271625067931136\n"
     ]
    }
   ],
   "source": [
    "for threshold in threshold_value:\n",
    "    for keys, value in measures['aan_graph_threshold_value_4'][0].items():\n",
    "        statistic_aan_hc =  measures[f'aan_graph_threshold_value_{threshold}'][0][keys] - measures[f'hc_graph_threshold_value_{threshold}'][0][keys]\n",
    "        statistic_wr_hc =  measures[f'wr_graph_threshold_value_{threshold}'][0][keys] - measures[f'hc_graph_threshold_value_{threshold}'][0][keys]\n",
    "        statistic_wr_aan =  measures[f'wr_graph_threshold_value_{threshold}'][0][keys] - measures[f'aan_graph_threshold_value_{threshold}'][0][keys]\n",
    "        \n",
    "        key = f'{keys}_at_threshold_value_{threshold}'\n",
    "      \n",
    "        test_statistics['aan_hc'][key] = statistic_aan_hc \n",
    "        test_statistics['wr_hc'][key] = statistic_wr_hc\n",
    "        test_statistics['wr_aan'][key] = statistic_wr_aan"
   ]
  },
  {
   "cell_type": "markdown",
   "metadata": {},
   "source": [
    "## 3) Permute across groups to get the null distrubition\n",
    "\n",
    "Now we permutate to create a null distrubtion\n"
   ]
  },
  {
   "cell_type": "code",
   "execution_count": 10,
   "metadata": {},
   "outputs": [],
   "source": [
    "#This is a useful function to get all the measures easily\n",
    "\n",
    "def list_of_measures() -> list:\n",
    "    '''\n",
    "    Function to get list of graph measures\n",
    "\n",
    "    Parameters\n",
    "    ----------\n",
    "    None\n",
    "\n",
    "    Returns\n",
    "    -------\n",
    "    list: list of graph theory measures\n",
    "    '''\n",
    "    return ['average_clustering', 'average_shortest_path_length', 'assortativity', 'modularity', 'efficiency']"
   ]
  },
  {
   "cell_type": "code",
   "execution_count": 11,
   "metadata": {},
   "outputs": [],
   "source": [
    "def permuations(permutations:int, length_of_group_1:int, length_of_group_2:int, participants:pd.DataFrame, names:list, centroids:np.float64, threshold:int) -> dict:\n",
    "    measures = list_of_measures()\n",
    "    null_distribution ={\n",
    "        \n",
    "        'average_clustering':[],\n",
    "        'average_shortest_path_length':[], \n",
    "        'assortativity':[], \n",
    "        'modularity':[], \n",
    "        'efficiency':[]\n",
    "    \n",
    "    }\n",
    "    \n",
    "    for perm in range(permutations):\n",
    "        group_1_participants = participants.sample(n=length_of_group_1)\n",
    "        group_2_participants = participants.sample(n=length_of_group_2)\n",
    "        \n",
    "        group_1_graphs = Sfun.create_graphs(group_1_participants.iloc[:,1:69], names, centroids, threshold=threshold)\n",
    "        group_2_graphs = Sfun.create_graphs(group_2_participants.iloc[:,1:69], names, centroids)\n",
    "        \n",
    "        group_1_values = group_1_graphs['graph_threshold'].calculate_global_measures()\n",
    "        group_2_graphs = group_2_graphs['graph_threshold'].calculate_global_measures()\n",
    "    \n",
    "        for meas in measures:\n",
    "            crit_val = group_1_values[meas] -  group_2_graphs[meas]\n",
    "            null_distribution[meas].append(crit_val)\n",
    "            \n",
    "    return null_distribution"
   ]
  },
  {
   "cell_type": "code",
   "execution_count": 12,
   "metadata": {},
   "outputs": [],
   "source": [
    "aan_hc_df = pd.concat([aan, hc], ignore_index=True)\n",
    "aan_wr_df = pd.concat([wr, aan], ignore_index=True)\n",
    "wr_hc_df = pd.concat([wr, hc], ignore_index=True)"
   ]
  },
  {
   "cell_type": "markdown",
   "metadata": {},
   "source": [
    "null_distribution = {\n",
    "    'aan_hc':{},\n",
    "    'wr_hc':{},\n",
    "    'wr_aan':{}\n",
    "}"
   ]
  },
  {
   "cell_type": "markdown",
   "metadata": {},
   "source": [
    "for threshold in threshold_value:\n",
    "    aan_hc_perm = permuations(100, len(aan['G-Number']), len(hc['G-Number']), aan_hc_df, names, centroids, threshold)\n",
    "    aan_wr_perm = permuations(100, len(aan['G-Number']), len(wr['G-Number']), aan_wr_df, names, centroids, threshold)\n",
    "    wr_hc_perm = permuations(100, len(wr['G-Number']), len(hc['G-Number']), wr_hc_df, names, centroids, threshold)\n",
    "    \n",
    "    key = f'thresholded_value_{threshold}'\n",
    "    null_distribution['aan_hc'][key] = aan_hc_perm \n",
    "    null_distribution['wr_hc'][key] = aan_wr_perm\n",
    "    null_distribution['wr_aan'][key] = wr_hc_perm"
   ]
  },
  {
   "cell_type": "markdown",
   "metadata": {},
   "source": [
    "import pickle\n",
    "\n",
    "with open('permutations.pickle', 'wb') as handle:\n",
    "    pickle.dump(null_distribution, handle, protocol=pickle.HIGHEST_PROTOCOL)\n"
   ]
  },
  {
   "cell_type": "code",
   "execution_count": 13,
   "metadata": {},
   "outputs": [],
   "source": [
    "import pickle\n",
    "\n",
    "with open('permutations.pickle', 'rb') as handle:\n",
    "    null_distribution = pickle.load(handle)"
   ]
  },
  {
   "cell_type": "code",
   "execution_count": 14,
   "metadata": {},
   "outputs": [
    {
     "name": "stdout",
     "output_type": "stream",
     "text": [
      "4.231782265144864\n",
      "-0.08077260755048243\n"
     ]
    }
   ],
   "source": [
    "print(max(null_distribution['aan_hc']['thresholded_value_4']['average_shortest_path_length']))\n",
    "print(test_statistics['aan_hc']['average_shortest_path_length_at_threshold_value_4'])"
   ]
  },
  {
   "cell_type": "markdown",
   "metadata": {},
   "source": [
    "## 4) Take the maximum test statistic across all thresholds for each permutation resulting in one summarised null statistic for each permutation. \n",
    "\n"
   ]
  },
  {
   "cell_type": "code",
   "execution_count": 15,
   "metadata": {},
   "outputs": [],
   "source": [
    "def find_max_null_stat(null_distribution:dict, group_key:str, measure_key:str, list_number:int) -> int:\n",
    "    \n",
    "    '''\n",
    "    Function to loop through each element in a list for each thresold value.\n",
    "\n",
    "    Parameters\n",
    "    ----------\n",
    "    null_distribution:dict dictionary of null_distribution\n",
    "    group_key:str dictionary key for group \n",
    "    measure_key:str dictionary key for the graph theory measure.\n",
    "    list_number:int list index of permutation\n",
    "\n",
    "    Returns\n",
    "    -------\n",
    "    max_null_statistic:int max null statistic for that permutation.\n",
    "\n",
    "    '''\n",
    "    \n",
    "    values = []\n",
    "    for threshold in threshold_value:\n",
    "        values.append(null_distribution[group_key][f'thresholded_value_{threshold}'][measure_key][list_number])\n",
    "    \n",
    "    max_null_statistic = max(values, key=abs)\n",
    "    return max_null_statistic"
   ]
  },
  {
   "cell_type": "code",
   "execution_count": 16,
   "metadata": {},
   "outputs": [],
   "source": [
    "null_stat_summarized = {\n",
    "    \n",
    "    'aan_hc':{},\n",
    "    'wr_hc':{},\n",
    "    'wr_aan':{}\n",
    "}\n"
   ]
  },
  {
   "cell_type": "markdown",
   "metadata": {},
   "source": [
    "Once dictionary has been initialised it needs to be set up to be able to take the permutations and list."
   ]
  },
  {
   "cell_type": "code",
   "execution_count": 17,
   "metadata": {},
   "outputs": [],
   "source": [
    "measures = list_of_measures()\n",
    "\n",
    "for measure in measures:\n",
    "    null_stat_summarized['aan_hc'][measure] = []\n",
    "    null_stat_summarized['wr_hc'][measure] = []\n",
    "    null_stat_summarized['wr_aan'][measure] = [] "
   ]
  },
  {
   "cell_type": "code",
   "execution_count": 18,
   "metadata": {},
   "outputs": [],
   "source": [
    "for perm in range(0, 100):\n",
    "    for measure in measures:\n",
    "        aan_hc_max_null_statistic = find_max_null_stat(null_distribution, 'aan_hc', measure, perm )\n",
    "        wr_hc_max_null_statistic = find_max_null_stat(null_distribution, 'wr_hc', measure, perm )\n",
    "        wr_aan_max_null_statistic = find_max_null_stat(null_distribution, 'wr_aan', measure, perm )\n",
    "\n",
    "        null_stat_summarized['aan_hc'][measure].append(aan_hc_max_null_statistic)\n",
    "        null_stat_summarized['wr_hc'][measure].append(wr_hc_max_null_statistic)\n",
    "        null_stat_summarized['wr_aan'][measure].append(wr_aan_max_null_statistic)\n"
   ]
  },
  {
   "cell_type": "markdown",
   "metadata": {},
   "source": [
    "## 5) Identify the critical value for the test-statistic from the top αth percentile of the null test statistics, where α is the desired confidence level (e.g., 5%)."
   ]
  },
  {
   "cell_type": "code",
   "execution_count": 19,
   "metadata": {},
   "outputs": [],
   "source": [
    "#TODO need to calulate the min and max of the test_statistics to test for direction of effect."
   ]
  },
  {
   "cell_type": "code",
   "execution_count": 93,
   "metadata": {},
   "outputs": [],
   "source": [
    "max_min_values = {\n",
    "    'aan_hc':{},\n",
    "    'wr_hc':{},\n",
    "    'wr_aan':{}\n",
    "\n",
    "}\n",
    "\n",
    "for measure in measures:\n",
    "    max_min_values['aan_hc'][measure] = []\n",
    "    max_min_values['wr_hc'][measure] = []\n",
    "    max_min_values['wr_aan'][measure] = [] "
   ]
  },
  {
   "cell_type": "code",
   "execution_count": 94,
   "metadata": {},
   "outputs": [],
   "source": [
    "for top_key in max_min_values.keys(): \n",
    "    for key , val in test_statistics[top_key].items():\n",
    "        new_key = re.sub(r'_at_threshold_value_.*','', key)\n",
    "        max_min_values[top_key][new_key].append(val)"
   ]
  },
  {
   "cell_type": "code",
   "execution_count": 95,
   "metadata": {},
   "outputs": [],
   "source": [
    "for top_key in max_min_values.keys(): \n",
    "    for key , val in max_min_values[top_key].items():\n",
    "       max_value = max(max_min_values[top_key][key], key=abs)\n",
    "       min_val = min(max_min_values[top_key][key], key=abs)\n",
    "       max_min_values_list = [min_val, max_value]\n",
    "       max_min_values[top_key].update({key:max_min_values_list})"
   ]
  },
  {
   "cell_type": "code",
   "execution_count": 107,
   "metadata": {},
   "outputs": [],
   "source": [
    "crit_val = {}"
   ]
  },
  {
   "cell_type": "code",
   "execution_count": 109,
   "metadata": {},
   "outputs": [],
   "source": [
    "for top_key in max_min_values.keys():\n",
    "    for measure in measures:\n",
    "    \n",
    "        if max_min_values[top_key][measure][1] > 0:\n",
    "            if max_min_values[top_key][measure][0] > 0:\n",
    "                crit_val[f'{top_key}_{measure}']= np.quantile(np.array(null_stat_summarized[top_key][measure]), 0.95)\n",
    "            else:\n",
    "                crit_val[f'{top_key}_{measure}'] = np.quantile(np.array(null_stat_summarized[top_key][measure]), 0.975)\n",
    "        else:\n",
    "            crit_val[f'{top_key}_{measure}'] = np.quantile(np.array(null_stat_summarized[top_key][measure]), 0.5)\n"
   ]
  },
  {
   "cell_type": "code",
   "execution_count": 200,
   "metadata": {},
   "outputs": [
    {
     "name": "stdout",
     "output_type": "stream",
     "text": [
      "3.4189420544337104 -0.031167690956979577\n"
     ]
    }
   ],
   "source": [
    "print(crit_val['aan_hc_average_shortest_path_length'],  test_statistics['aan_hc']['average_shortest_path_length_at_threshold_value_12'])"
   ]
  },
  {
   "cell_type": "markdown",
   "metadata": {},
   "source": [
    "## 6) Identify clusters where the true test statistic is higher than the critical value and compute the AUC for these clusters.\n",
    "\n",
    "Also going to compute pvals at each threshold"
   ]
  },
  {
   "cell_type": "code",
   "execution_count": 214,
   "metadata": {},
   "outputs": [
    {
     "name": "stdout",
     "output_type": "stream",
     "text": [
      "aan_hc_assortativity 0.28076490203061255 0.1897509311188565\n",
      "aan_hc_modularity 0.35106529345936077 0.002777442337881908\n",
      "aan_hc_assortativity 0.28076490203061255 0.19514622589634578\n",
      "aan_hc_assortativity 0.28076490203061255 0.16780104901294546\n",
      "aan_hc_assortativity 0.28076490203061255 0.14608447054409718\n",
      "aan_hc_average_shortest_path_length 3.4189420544337104 0.21290605794556638\n",
      "aan_hc_assortativity 0.28076490203061255 0.07921093478187943\n",
      "aan_hc_modularity 0.35106529345936077 0.00042265426880799817\n",
      "aan_hc_average_shortest_path_length 3.4189420544337104 0.01273046532045674\n",
      "aan_hc_assortativity 0.28076490203061255 0.08657409970236939\n",
      "aan_hc_modularity 0.35106529345936077 0.01778703152885186\n",
      "aan_hc_average_shortest_path_length 3.4189420544337104 0.0460930640913082\n",
      "aan_hc_assortativity 0.28076490203061255 0.08252429022785399\n",
      "aan_hc_modularity 0.35106529345936077 0.014687211449676829\n",
      "aan_hc_assortativity 0.28076490203061255 0.09517866477884641\n",
      "aan_hc_modularity 0.35106529345936077 0.00411104585641503\n",
      "aan_hc_assortativity 0.28076490203061255 0.03990206919401179\n",
      "wr_hc_assortativity 0.2750530715580582 0.26644613779054216\n",
      "wr_hc_assortativity 0.2750530715580582 0.13884537483591974\n",
      "wr_hc_assortativity 0.2750530715580582 0.14583449576157415\n",
      "wr_hc_assortativity 0.2750530715580582 0.11783739648637286\n",
      "wr_hc_average_shortest_path_length 1.997805092186128 0.13257243195785762\n",
      "wr_hc_assortativity 0.2750530715580582 0.07405879246233235\n",
      "wr_hc_average_shortest_path_length 1.997805092186128 0.035996488147497896\n",
      "wr_hc_assortativity 0.2750530715580582 0.07159489265426057\n",
      "wr_hc_assortativity 0.2750530715580582 0.08467710385673252\n",
      "wr_hc_average_shortest_path_length 1.997805092186128 0.04872695346795419\n",
      "wr_hc_assortativity 0.2750530715580582 0.07444996612700548\n",
      "wr_hc_modularity 0.29885914498730703 0.020245710385549398\n",
      "wr_hc_average_shortest_path_length 1.997805092186128 0.02370500438981571\n",
      "wr_hc_modularity 0.29885914498730703 0.0007178413771820602\n",
      "wr_aan_assortativity 0.2719457687909693 0.07669520667168564\n",
      "wr_aan_average_shortest_path_length 2.0138279192273925 0.023266022827041155\n",
      "wr_aan_assortativity 0.2719457687909693 0.002152813628878536\n",
      "wr_aan_average_shortest_path_length 2.0138279192273925 0.06584723441615425\n",
      "wr_aan_modularity 0.28583620731452997 0.016134664529134368\n",
      "wr_aan_average_shortest_path_length 2.0138279192273925 0.054872695346795286\n",
      "wr_aan_modularity 0.28583620731452997 0.0181070455795731\n"
     ]
    }
   ],
   "source": [
    "for top_key in test_statistics.keys():\n",
    "    for key , val in test_statistics[top_key].items():\n",
    "        new_key = re.sub(r'_at_threshold_value_.*','', key)\n",
    "        critical_value = crit_val[f'{top_key}_{new_key}']\n",
    "        \n",
    "        if critical_value > 0 and val > 0:\n",
    "            #print(np.sum(critical_value >= val)/100)\n",
    "            print(f'{top_key}_{new_key}', critical_value, val)\n",
    "            #if critical_value < val:\n",
    "            #    print(f'{top_key}_{new_key}', critical_value)\n",
    "            continue\n",
    "\n",
    "        elif critical_value < 0 and val <0:\n",
    "            if val > critical_value:\n",
    "                continue\n",
    "                \n",
    "        else:\n",
    "            continue\n",
    "            #if val > critical_value:\n",
    "            #    print(f'{top_key}_{new_key}', critical_value, val)\n",
    "\n",
    "\n",
    "            "
   ]
  },
  {
   "cell_type": "code",
   "execution_count": 162,
   "metadata": {},
   "outputs": [
    {
     "data": {
      "text/plain": [
       "{'aan_hc_average_clustering': -0.16658668802473536,\n",
       " 'aan_hc_average_shortest_path_length': 3.4189420544337104,\n",
       " 'aan_hc_assortativity': 0.28076490203061255,\n",
       " 'aan_hc_modularity': 0.35106529345936077,\n",
       " 'aan_hc_efficiency': -0.14611576378024874,\n",
       " 'wr_hc_average_clustering': -0.23298483488789967,\n",
       " 'wr_hc_average_shortest_path_length': 1.997805092186128,\n",
       " 'wr_hc_assortativity': 0.2750530715580582,\n",
       " 'wr_hc_modularity': 0.29885914498730703,\n",
       " 'wr_hc_efficiency': -0.1481588033223193,\n",
       " 'wr_aan_average_clustering': -0.24804383993723467,\n",
       " 'wr_aan_average_shortest_path_length': 2.0138279192273925,\n",
       " 'wr_aan_assortativity': 0.2719457687909693,\n",
       " 'wr_aan_modularity': 0.28583620731452997,\n",
       " 'wr_aan_efficiency': -0.11694682658576337}"
      ]
     },
     "execution_count": 162,
     "metadata": {},
     "output_type": "execute_result"
    }
   ],
   "source": [
    "crit_val"
   ]
  },
  {
   "cell_type": "code",
   "execution_count": 205,
   "metadata": {},
   "outputs": [],
   "source": [
    "def pval_plotting(ctvalues:list, tcrit_value:int, measure:str, permutations:int, crit_val:int) -> None:\n",
    "    \n",
    "    '''\n",
    "    Wrapper around seaborn displot.\n",
    "    Function to plot null distribution with 2 std either side and true critical value.\n",
    "\n",
    "    Parameters\n",
    "    -----------------------------------------------------------------\n",
    "    ctvalues : list, list of crticial values from the null distrubtion.\n",
    "    tcrit_value: int True crtical value of a test.\n",
    "    measure: str, name of the measure (used in title of the graph)\n",
    "    permutations: int, number of permuations (used in title of the graph)\n",
    "\n",
    "\n",
    "    Returns\n",
    "    -----------------------------------------------------------------\n",
    "    hist: histogram of null distribution with upper and lower std with\n",
    "          true value.\n",
    "    '''\n",
    "    \n",
    "    #Calculates the mean and std deviation of null distribution\n",
    "\n",
    "    mean_val = Sfun.mean_std(ctvalues)\n",
    "    \n",
    "    #plots \n",
    "    hist = sns.displot(data=ctvalues, height=10).set(title=f'Histplot for {measure} after {permutations} permuatations')\n",
    "    hist.refline(x=tcrit_value, color='purple')\n",
    "    hist.refline(x=crit_val, color='green', linestyle='-')\n",
    "    hist.refline(x=mean_val['lower_2std'], linestyle='-', color='black')\n",
    "    hist.refline(x=mean_val['upper_2std'], linestyle='-', color='black')\n",
    "    hist.refline(x=mean_val['lower_1std'], linestyle='-', color='red')\n",
    "    hist.refline(x=mean_val['upper_1std'], linestyle='-', color='red')\n",
    "    plt.show()"
   ]
  },
  {
   "cell_type": "code",
   "execution_count": 217,
   "metadata": {},
   "outputs": [
    {
     "data": {
      "image/png": "[encoded data removed]",
      "text/plain": [
       "<Figure size 720x720 with 1 Axes>"
      ]
     },
     "metadata": {},
     "output_type": "display_data"
    }
   ],
   "source": [
    "pval_plotting(null_stat_summarized['aan_hc']['average_shortest_path_length'], test_statistics['aan_hc']['average_shortest_path_length_at_threshold_value_4'], 'average_shortest_path_length', 1000, crit_val['wr_hc_average_shortest_path_length'] )"
   ]
  },
  {
   "cell_type": "code",
   "execution_count": 210,
   "metadata": {},
   "outputs": [
    {
     "data": {
      "text/plain": [
       "True"
      ]
     },
     "execution_count": 210,
     "metadata": {},
     "output_type": "execute_result"
    }
   ],
   "source": [
    "test_statistics['aan_hc']['average_clustering_at_threshold_value_4'] > crit_val['aan_hc_average_clustering']"
   ]
  }
 ],
 "metadata": {
  "kernelspec": {
   "display_name": "Python 3.9.7 ('scn')",
   "language": "python",
   "name": "python3"
  },
  "language_info": {
   "codemirror_mode": {
    "name": "ipython",
    "version": 3
   },
   "file_extension": ".py",
   "mimetype": "text/x-python",
   "name": "python",
   "nbconvert_exporter": "python",
   "pygments_lexer": "ipython3",
   "version": "3.9.7"
  },
  "orig_nbformat": 4,
  "vscode": {
   "interpreter": {
    "hash": "d6aaeafbb34bd8ccb4b94759bad6d8a43f22b1f97d06ebd89ca25d302d210f79"
   }
  }
 },
 "nbformat": 4,
 "nbformat_minor": 2
}
