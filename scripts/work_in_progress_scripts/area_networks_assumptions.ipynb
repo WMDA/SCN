{
 "cells": [
  {
   "cell_type": "markdown",
   "metadata": {},
   "source": [
    "# Area Assumptions\n",
    "\n",
    "This notebook creates graphs for each group and examines if they differ from random graphs.\n",
    "\n",
    "The first part of the script imports the data and creates graphs."
   ]
  },
  {
   "cell_type": "code",
   "execution_count": 1,
   "metadata": {},
   "outputs": [],
   "source": [
    "import pandas as pd\n",
    "import numpy as np\n",
    "import networkx as nx\n",
    "import scona as scn\n",
    "from scona.visualisations import plot_network_measures, plot_degree_dist, plot_rich_club\n",
    "import matplotlib.pyplot as plt\n",
    "import nilearn.plotting as plot\n",
    "import seaborn as sns\n",
    "sns.set_style('dark')"
   ]
  },
  {
   "cell_type": "markdown",
   "metadata": {},
   "source": [
    "This code creates the enviornmental variable for where the data is stored. Create a .env file in the directory with the file path to data."
   ]
  },
  {
   "cell_type": "code",
   "execution_count": 2,
   "metadata": {},
   "outputs": [],
   "source": [
    "from decouple import config\n",
    "\n",
    "data = config('data')"
   ]
  },
  {
   "cell_type": "code",
   "execution_count": 3,
   "metadata": {},
   "outputs": [],
   "source": [
    "lh_area = pd.read_csv(f'{data}/lh_area.dat',sep='\\t').drop(['lh_WhiteSurfArea_area',\n",
    "       'BrainSegVolNotVent', 'eTIV'],axis=1).rename(columns={'lh.aparc.area':'G-Number'})\n",
    "\n",
    "rh_area =  pd.read_csv(f'{data}/rh_area.dat',sep='\\t').drop(['rh_WhiteSurfArea_area',\n",
    "       'BrainSegVolNotVent', 'eTIV','rh.aparc.area'],axis=1)\n",
    "\n",
    "group = pd.read_csv(f'{data}/cortical_measures.csv').iloc[0:,2]\n",
    "\n",
    "area = pd.concat([lh_area, rh_area, group],axis=1)\n",
    "\n",
    "names = list(area.columns.drop(['G-Number','age_adjusted_group']))\n",
    "\n",
    "centroids = pd.read_csv(f'{data}/atlas.csv') #This atlas was obtained from braingraph R package\n",
    "\n",
    "centroids = centroids[['x.mni',\t'y.mni', 'z.mni']].to_numpy()\n",
    "\n",
    "group = area.groupby('age_adjusted_group')\n",
    "aan = group.get_group('AAN').reset_index(drop=True)\n",
    "hc = group.get_group('HC').reset_index(drop=True)\n",
    "wr = group.get_group('WR').reset_index(drop=True)"
   ]
  },
  {
   "cell_type": "code",
   "execution_count": 4,
   "metadata": {},
   "outputs": [
    {
     "name": "stdout",
     "output_type": "stream",
     "text": [
      "BrainNetwork with 68 nodes and 228 edges\n"
     ]
    }
   ],
   "source": [
    "aan_residuals_df = scn.create_residuals_df(aan.iloc[:,1:69], names)\n",
    "aan_corr_matrix = scn.create_corrmat(aan_residuals_df, method='pearson')\n",
    "aan_graph = scn.BrainNetwork(network=aan_corr_matrix, parcellation=names, centroids=centroids)\n",
    "aan_graph_threshold = aan_graph.threshold(10)\n",
    "print(aan_graph_threshold)"
   ]
  },
  {
   "cell_type": "code",
   "execution_count": null,
   "metadata": {},
   "outputs": [],
   "source": [
    "wr_residuals_df = scn.create_residuals_df(wr.iloc[:,1:69], names)\n",
    "wr_corr_matrix = scn.create_corrmat(wr_residuals_df, method='pearson')\n",
    "wr_graph = scn.BrainNetwork(network=wr_corr_matrix, parcellation=names, centroids=centroids)\n",
    "wr_graph_threshold = wr_graph.threshold(10)"
   ]
  },
  {
   "cell_type": "code",
   "execution_count": null,
   "metadata": {},
   "outputs": [],
   "source": [
    "hc_residuals_df = scn.create_residuals_df(hc.iloc[:,1:69], names)\n",
    "hc_corr_matrix = scn.create_corrmat(hc_residuals_df, method='pearson')\n",
    "hc_graph = scn.BrainNetwork(network=hc_corr_matrix, parcellation=names, centroids=centroids)\n",
    "hc_graph_threshold = hc_graph.threshold(10)"
   ]
  },
  {
   "cell_type": "markdown",
   "metadata": {},
   "source": [
    "## Creation of Random Graphs.\n",
    "\n",
    "This simulates random graphs to check that the actual graph differ from random graphs"
   ]
  },
  {
   "cell_type": "code",
   "execution_count": 5,
   "metadata": {},
   "outputs": [
    {
     "name": "stdout",
     "output_type": "stream",
     "text": [
      "        Creating 100 random graphs - may take a little while\n"
     ]
    }
   ],
   "source": [
    "brain_bundle_aan = scn.GraphBundle([aan_graph_threshold], ['AAN_graph_thresholded'])\n",
    "brain_bundle_aan.create_random_graphs('AAN_graph_thresholded', 100)"
   ]
  },
  {
   "cell_type": "code",
   "execution_count": null,
   "metadata": {},
   "outputs": [],
   "source": [
    "brain_bundle_wr = scn.GraphBundle([wr_graph_threshold], ['WR_graph_thresholded'])\n",
    "brain_bundle_wr.create_random_graphs('WR_graph_thresholded', 1000)"
   ]
  },
  {
   "cell_type": "code",
   "execution_count": null,
   "metadata": {},
   "outputs": [],
   "source": [
    "brain_bundle_hc = scn.GraphBundle([hc_graph_threshold], ['HC_graph_thresholded'])\n",
    "brain_bundle_hc.create_random_graphs('HC_graph_thresholded', 1000)"
   ]
  },
  {
   "cell_type": "markdown",
   "metadata": {},
   "source": [
    "## Calculating nodal and global measures"
   ]
  },
  {
   "cell_type": "code",
   "execution_count": null,
   "metadata": {},
   "outputs": [],
   "source": [
    "aan_graph_threshold.calculate_nodal_measures()\n",
    "nodal_df_aan = aan_graph_threshold.report_nodal_measures()"
   ]
  },
  {
   "cell_type": "code",
   "execution_count": null,
   "metadata": {},
   "outputs": [],
   "source": [
    "wr_graph_threshold.calculate_nodal_measures()\n",
    "nodal_df_wr = wr_graph_threshold.report_nodal_measures()"
   ]
  },
  {
   "cell_type": "code",
   "execution_count": null,
   "metadata": {},
   "outputs": [],
   "source": [
    "hc_graph_threshold.calculate_nodal_measures()\n",
    "nodal_df_hc = hc_graph_threshold.report_nodal_measures()"
   ]
  },
  {
   "cell_type": "code",
   "execution_count": null,
   "metadata": {},
   "outputs": [],
   "source": [
    "random_graph_measures_aan = brain_bundle_aan.report_global_measures()\n",
    "random_graph_measures_aan.head()"
   ]
  },
  {
   "cell_type": "code",
   "execution_count": null,
   "metadata": {},
   "outputs": [],
   "source": [
    "random_graph_measures_wr = brain_bundle_wr.report_global_measures()\n",
    "random_graph_measures_wr.head()"
   ]
  },
  {
   "cell_type": "code",
   "execution_count": null,
   "metadata": {},
   "outputs": [],
   "source": [
    "random_graph_measures_hc = brain_bundle_hc.report_global_measures()\n",
    "random_graph_measures_hc.head()"
   ]
  },
  {
   "cell_type": "markdown",
   "metadata": {},
   "source": [
    "## Plotting degree distribution"
   ]
  },
  {
   "cell_type": "code",
   "execution_count": null,
   "metadata": {},
   "outputs": [],
   "source": [
    "plot_degree_dist(aan_graph_threshold, color=[\"purple\", \"black\"])"
   ]
  },
  {
   "cell_type": "code",
   "execution_count": null,
   "metadata": {},
   "outputs": [],
   "source": [
    "plot_degree_dist(wr_graph_threshold, color=[\"navy\", \"black\"])"
   ]
  },
  {
   "cell_type": "code",
   "execution_count": null,
   "metadata": {},
   "outputs": [],
   "source": [
    "plot_degree_dist(hc_graph_threshold, color=[\"darkorange\", \"black\"])"
   ]
  },
  {
   "cell_type": "markdown",
   "metadata": {},
   "source": [
    "## Plotting global Measures."
   ]
  },
  {
   "cell_type": "code",
   "execution_count": null,
   "metadata": {},
   "outputs": [],
   "source": [
    "plot_network_measures(brain_bundle_aan, original_network='AAN_graph_thresholded', color=['purple','slategrey'], ci=95)"
   ]
  },
  {
   "cell_type": "code",
   "execution_count": null,
   "metadata": {},
   "outputs": [],
   "source": [
    "plot_network_measures(brain_bundle_wr, original_network='WR_graph_thresholded', color=['navy','slategrey'], ci=95)"
   ]
  },
  {
   "cell_type": "code",
   "execution_count": null,
   "metadata": {},
   "outputs": [],
   "source": [
    "plot_network_measures(brain_bundle_hc, original_network='HC_graph_thresholded', color=['darkorange','slategrey'], ci=95)"
   ]
  },
  {
   "cell_type": "markdown",
   "metadata": {},
   "source": [
    "## Plotting rich club"
   ]
  },
  {
   "cell_type": "code",
   "execution_count": null,
   "metadata": {},
   "outputs": [],
   "source": [
    "plot_rich_club(brain_bundle_aan, color=['purple','slategrey'], original_network='AAN_graph_thresholded')"
   ]
  },
  {
   "cell_type": "code",
   "execution_count": null,
   "metadata": {},
   "outputs": [],
   "source": [
    "plot_rich_club(brain_bundle_wr, color=['navy','slategrey'], original_network='WR_graph_thresholded')"
   ]
  },
  {
   "cell_type": "code",
   "execution_count": null,
   "metadata": {},
   "outputs": [],
   "source": [
    "plot_rich_club(brain_bundle_hc, color=['darkorange','slategrey'], original_network='HC_graph_thresholded')"
   ]
  }
 ],
 "metadata": {
  "interpreter": {
   "hash": "d6aaeafbb34bd8ccb4b94759bad6d8a43f22b1f97d06ebd89ca25d302d210f79"
  },
  "kernelspec": {
   "display_name": "Python 3.9.7 64-bit ('scn': conda)",
   "language": "python",
   "name": "python3"
  },
  "language_info": {
   "codemirror_mode": {
    "name": "ipython",
    "version": 3
   },
   "file_extension": ".py",
   "mimetype": "text/x-python",
   "name": "python",
   "nbconvert_exporter": "python",
   "pygments_lexer": "ipython3",
   "version": "3.9.7"
  },
  "orig_nbformat": 4
 },
 "nbformat": 4,
 "nbformat_minor": 2
}
